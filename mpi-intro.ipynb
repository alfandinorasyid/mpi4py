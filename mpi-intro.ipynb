{
 "cells": [
  {
   "cell_type": "code",
   "execution_count": 1,
   "id": "2339aff6",
   "metadata": {},
   "outputs": [
    {
     "name": "stdout",
     "output_type": "stream",
     "text": [
      "saya boss\n"
     ]
    }
   ],
   "source": [
    "from mpi4py import MPI\n",
    "comm = MPI.COMM_WORLD\n",
    "if comm.rank==0:\n",
    "    print(\"saya boss\")\n",
    "elif comm.rank==0:\n",
    "    print(\"saya anak istimewa\")\n",
    "else:\n",
    "    print(\"saya anak buat no\",comm.rank,\"dari total\",comm.size)"
   ]
  },
  {
   "cell_type": "code",
   "execution_count": 2,
   "id": "4d563e1e",
   "metadata": {},
   "outputs": [],
   "source": [
    "import mpi4py\n",
    "mpi4py.rc(initialize=False, finalize=False)"
   ]
  },
  {
   "cell_type": "code",
   "execution_count": 4,
   "id": "cd0c086b",
   "metadata": {},
   "outputs": [
    {
     "name": "stdout",
     "output_type": "stream",
     "text": [
      "saya boss\n",
      "saya anak buat no 2 dari total 4\n",
      "saya anak buat no 1 dari total 4\n",
      "saya anak buat no 3 dari total 4\n"
     ]
    }
   ],
   "source": [
    "!mpiexec -n 4 python mpihello.py"
   ]
  },
  {
   "cell_type": "code",
   "execution_count": 6,
   "id": "3ea208b6",
   "metadata": {
    "scrolled": false
   },
   "outputs": [
    {
     "name": "stdout",
     "output_type": "stream",
     "text": [
      "0 mengerjakan 0 50 [1, 3, 5, 7, 9, 11, 13, 15, 17, 19, 21, 23, 25, 27, 29, 31, 33, 35, 37, 39, 41, 43, 45, 47, 49, 51, 53, 55, 57, 59, 61, 63, 65, 67, 69, 71, 73, 75, 77, 79, 81, 83, 85, 87, 89, 91, 93, 95, 97, 99] 50 of 50\n"
     ]
    }
   ],
   "source": [
    "from mpi4py import MPI\n",
    "from math import ceil\n",
    "comm = MPI.COMM_WORLD\n",
    "d = [i for i in range(1,100,2)]\n",
    "i = ceil(len(d)/comm.size)\n",
    "j = comm.rank*i\n",
    "if (j+i)>=len(d):\n",
    "    k = len(d)\n",
    "else:\n",
    "    k = j+i\n",
    "print(comm.rank,\"mengerjakan %d %d\" % (j,k),d[j:k],len(d[j:k]),\"of\",len(d))"
   ]
  },
  {
   "cell_type": "code",
   "execution_count": 10,
   "id": "b444e265",
   "metadata": {
    "scrolled": true
   },
   "outputs": [
    {
     "name": "stdout",
     "output_type": "stream",
     "text": [
      "8 mengerjakan 48 50 [97, 99] 2 of 50\n",
      "4 mengerjakan 24 30 [49, 51, 53, 55, 57, 59] 6 of 50\n",
      "5 mengerjakan 30 36 [61, 63, 65, 67, 69, 71] 6 of 50\n",
      "0 mengerjakan 0 6 [1, 3, 5, 7, 9, 11] 6 of 50\n",
      "3 mengerjakan 18 24 [37, 39, 41, 43, 45, 47] 6 of 50\n",
      "7 mengerjakan 42 48 [85, 87, 89, 91, 93, 95] 6 of 50\n",
      "6 mengerjakan 36 42 [73, 75, 77, 79, 81, 83] 6 of 50\n",
      "2 mengerjakan 12 18 [25, 27, 29, 31, 33, 35] 6 of 50\n",
      "1 mengerjakan 6 12 [13, 15, 17, 19, 21, 23] 6 of 50\n"
     ]
    }
   ],
   "source": [
    "!mpiexec -n 9 python mpibagikerja.py"
   ]
  },
  {
   "cell_type": "code",
   "execution_count": 12,
   "id": "84311f4f",
   "metadata": {},
   "outputs": [
    {
     "name": "stdout",
     "output_type": "stream",
     "text": [
      "0 4\n",
      "0 4\n",
      "1 4\n",
      "1 4\n",
      "2 4\n",
      "2 4\n",
      "3 4\n",
      "3 4\n"
     ]
    }
   ],
   "source": [
    "!mpiexec -n 4 python barrier.py"
   ]
  },
  {
   "cell_type": "code",
   "execution_count": 13,
   "id": "e8769ed0",
   "metadata": {},
   "outputs": [
    {
     "name": "stdout",
     "output_type": "stream",
     "text": [
      "1 3\n",
      "1 3\n",
      "0 3\n",
      "0 3\n",
      "2 3\n",
      "2 3\n"
     ]
    }
   ],
   "source": [
    "!mpiexec -n 3 python barrier.py"
   ]
  },
  {
   "cell_type": "code",
   "execution_count": null,
   "id": "e8482372",
   "metadata": {},
   "outputs": [],
   "source": []
  }
 ],
 "metadata": {
  "kernelspec": {
   "display_name": "Python 3",
   "language": "python",
   "name": "python3"
  },
  "language_info": {
   "codemirror_mode": {
    "name": "ipython",
    "version": 3
   },
   "file_extension": ".py",
   "mimetype": "text/x-python",
   "name": "python",
   "nbconvert_exporter": "python",
   "pygments_lexer": "ipython3",
   "version": "3.8.8"
  }
 },
 "nbformat": 4,
 "nbformat_minor": 5
}
